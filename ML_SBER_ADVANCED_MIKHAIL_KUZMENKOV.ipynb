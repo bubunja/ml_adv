{
 "cells": [
  {
   "cell_type": "markdown",
   "metadata": {},
   "source": [
    "# Продвинутые методы машинного обучения, Сбербанк\n",
    "## Домашнее задание\n",
    "\n",
    "Результат домашнего задания − отчет. Постарайтесь сделать ваш отчет интересным рассказом, последовательно отвечающим на вопросы из заданий. При проверке оценивается четкость ответов на вопросы, аккуратность отчета и кода.\n",
    "\n",
    "Мы уверены, что выполнение домашней работы занимает значительное время, поэтому не рекомендуем оставлять ее на последний вечер перед сдачей.\n",
    "\n",
    "### Оценивание и штрафы\n",
    "* Каждая из задач имеет определенную «стоимость» (указана в скобках около задачи)\n",
    "* Максимальная оценка за работу — 100 баллов\n",
    "* На выполнение задания дается 3 недели после публикации домашнего задания в Виртуальной Школе\n",
    "* «Похожие» решения считаются плагиатом и все задействованные слушатели (в том числе те, у кого списали) не могут получить за него больше 0 баллов\n",
    "\n",
    "### Формат сдачи\n",
    "Подпишите ваш jupyter-ноутбук с кодом в следующем формате: `ML_SBER_ADVANCED_NAME_SURNAME`, где вместо NAME и SURNAME вставьте ваше имя и фамилию"
   ]
  },
  {
   "cell_type": "markdown",
   "metadata": {},
   "source": [
    "## Оценивание качества классификации\n",
    "\n",
    "Перед тем, как приступить к выполнению заданий, рассмотрим метрики классификации, которые нам пригодятся в дальнейшем."
   ]
  },
  {
   "cell_type": "markdown",
   "metadata": {},
   "source": [
    "### Accuracy, Precision, Recall\n",
    "\n",
    "Хорошее описание метрик есть на википедии: https://en.wikipedia.org/wiki/Precision_and_recall\n",
    "\n",
    "- Accuracy: $$ Accuracy = \\frac{1}{l}\\sum_{i=1}^l[y_i = \\hat{y}_i]$$ где $y_i$ — истинный ответ на объекте $x_i$, $\\hat{y}_i$ — предсказанный. (Мы не рекомендуем переводить *accuracy* как точность, потому что в русскоязычной литературе точностью называют другую метрику)\n",
    "- Precision (точность): $$Precision = \\frac{TP}{TP + FP}$$\n",
    "- Recall (полнота): $$Recall = \\frac{TP}{TP + FN}$$\n",
    "\n",
    "Обратите внимание, что точность и полнота вычисляются относительно фиксированного класса. В sklearn есть удобная функция [classification_report](http://scikit-learn.org/stable/modules/generated/sklearn.metrics.classification_report.html), позволяющая сразу вычислять эти метрики для всех классов. \n",
    "\n",
    "Точность и полнота хороши тем, что могут быть использованы в случае несбалансированных данных, однако сразу же две метрики оптимизировать неудобно."
   ]
  },
  {
   "cell_type": "markdown",
   "metadata": {},
   "source": [
    "### Precision-Recall кривая\n",
    "\n",
    "Зачастую классификатор может возвращать не конкретный класс, а некоторую меру принадлежности заданному классу $b(x)$. Затем значение $b(x)$ сравнивается с фиксированным порогом *t*, и на самом деле классификатор имеет вид $a(x) = [b(x) > t]$. Таким образом, при оценивании качества работы классификатора можно использовать его ответ $b(x)$ и подбирать порог *t* исходя из некоторых условий. Кроме того, выбор порога влияет на качество классификации:\n",
    " - чем больше $t$, тем выше точность, но ниже полнота,\n",
    " - чем меньше $t$, тем выше полнота, но ниже точность.\n",
    "\n",
    "Раз мы умеем варьировать порог классификатора, тем самым меняя качество, интересно каким оно будет при всех возможных различных порогах. Для этого строят следующий график: переберем все возможные пороги $t$, откладывая по оси OX полноту получившегося классификатора, а по оси OY — точность. Таким образом можно получить хорошую визуализацию качества алгоритма."
   ]
  },
  {
   "cell_type": "markdown",
   "metadata": {},
   "source": [
    "### ROC кривая\n",
    "\n",
    "Еще один из способ визуализации зависимости метрик качества от порога, подходящей в этом случае, является *ROC*. По осям: \n",
    " - OX: $FPR = \\frac{FP}{FP + TN}$\n",
    " - OY: $TPR = \\frac{TP}{TP + FN}$\n",
    "\n",
    "Как следствие, можно измерять площади под указанными кривыми — *Precision-Recall AUC* и *AUC-ROC* соответственно."
   ]
  },
  {
   "cell_type": "markdown",
   "metadata": {},
   "source": [
    "### LogLoss\n",
    "\n",
    "В бинарном случае эта метрика записывается как $$logloss = -\\dfrac{1}{N}\\sum_{i=1}^N (y_i\\log{p_i} + (1-y_i)\\log{(1 - p_i)})$$\n",
    "\n",
    "В отличии от *AUC-ROC*, для этой метрики необходимо, чтобы классификатор умел предсказывать вероятность принадлежности к классу, а не \"степень принадлежности классу 1\" в неопределенной шкале. Приведем пример. Вероятностная шкала может быть нужна, если вы хотите оценить количество денег, которые в среднем принесёт пользователь, кликнув на баннер. Для этого необходимо умножить количество денег, которые вы получаете за клик на баннер, на вероятность клика пользователя, которую предсказывает модель."
   ]
  },
  {
   "cell_type": "markdown",
   "metadata": {},
   "source": [
    "## Работа с текстовыми данными"
   ]
  },
  {
   "cell_type": "markdown",
   "metadata": {},
   "source": [
    "В этом задании мы будем работать с подмножеством датасета IMDB Movies Reviews из соревнования [Bag of Words Meets Bags of Popcorn](https://www.kaggle.com/c/word2vec-nlp-tutorial/data). \n",
    "![](http://i.imgur.com/QZgxFic.png)\n",
    "\n",
    "Задача состоит в следующем: по отзыву на фильм необходимо понять является ли он положительным или отрицательным. Это один из примеров задачи анализа тональности текста ([sentiment analysis](https://en.wikipedia.org/wiki/Sentiment_analysis)). Пример отзыва из выборки:\n",
    "    \n",
    "    This can be one of the most enjoyable movies ever if you don't take it seriously. It is a bit dated and the effects are lame, but it is so enjoyable. There are giant crabs that attack a girl. oh, and the crabs sing Japanese. It is amazingly bad. And the ending, which has been telegraphed throughout the entire film is hideously awesome. Predictable, but seeing the final fight will leave you rolling in your seat. Don't even give this film a chance and you will love it. Susan George is fun to watch and yes, she does appear naked. Her daughter isn't quite worth putting up with, but she does get attacked by giant crabs. They are the size of large cats. This is a 2, but I love it. As a movie, my God, but for entertainment, I give it a 7. Did I mention there are giant crabs?"
   ]
  },
  {
   "cell_type": "markdown",
   "metadata": {},
   "source": [
    "#### Загрузите датасет из файла *feedback_data.tsv*."
   ]
  },
  {
   "cell_type": "markdown",
   "metadata": {},
   "source": [
    "**wget под Windows10 не сработал**\n",
    "\n",
    "выполнил conda install posix, не помогло\n",
    "\n",
    "пришлось заменить на curl и переключиться на ссылку амазона\n"
   ]
  },
  {
   "cell_type": "code",
   "execution_count": 1,
   "metadata": {},
   "outputs": [
    {
     "name": "stderr",
     "output_type": "stream",
     "text": [
      "  % Total    % Received % Xferd  Average Speed   Time    Time     Time  Current\n",
      "                                 Dload  Upload   Total   Spent    Left  Speed\n",
      "\n",
      "  0     0    0     0    0     0      0      0 --:--:-- --:--:-- --:--:--     0\n",
      "  4 25.4M    4 1053k    0     0  1065k      0  0:00:24 --:--:--  0:00:24 1066k\n",
      "  7 25.4M    7 1988k    0     0  1028k      0  0:00:25  0:00:01  0:00:24 1028k\n",
      " 15 25.4M   15 3977k    0     0  1355k      0  0:00:19  0:00:02  0:00:17 1355k\n",
      " 23 25.4M   23 6186k    0     0  1572k      0  0:00:16  0:00:03  0:00:13 1572k\n",
      " 28 25.4M   28 7461k    0     0  1510k      0  0:00:17  0:00:04  0:00:13 1511k\n",
      " 32 25.4M   32 8363k    0     0  1409k      0  0:00:18  0:00:05  0:00:13 1477k\n",
      " 34 25.4M   34 9060k    0     0  1301k      0  0:00:20  0:00:06  0:00:14 1406k\n",
      " 43 25.4M   43 11.0M    0     0  1426k      0  0:00:18  0:00:07  0:00:11 1468k\n",
      " 54 25.4M   54 13.7M    0     0  1578k      0  0:00:16  0:00:08  0:00:08 1583k\n",
      " 62 25.4M   62 15.8M    0     0  1636k      0  0:00:15  0:00:09  0:00:06 1760k\n",
      " 71 25.4M   71 18.2M    0     0  1708k      0  0:00:15  0:00:10  0:00:05 2063k\n",
      " 83 25.4M   83 21.3M    0     0  1831k      0  0:00:14  0:00:11  0:00:03 2572k\n",
      " 97 25.4M   97 24.7M    0     0  1958k      0  0:00:13  0:00:12  0:00:01 2803k\n",
      "100 25.4M  100 25.4M    0     0  1983k      0  0:00:13  0:00:13 --:--:-- 2841k\n"
     ]
    }
   ],
   "source": [
    "# скачиваем файл с данными\n",
    "# он называется \"feedback_data.tsv\"\n",
    "! curl https://purple-juno.s3.eu-north-1.amazonaws.com/feedback_data.tsv --output feedback_data.tsv"
   ]
  },
  {
   "cell_type": "code",
   "execution_count": 1,
   "metadata": {},
   "outputs": [],
   "source": [
    "import pandas as pd\n",
    "import numpy as np"
   ]
  },
  {
   "cell_type": "code",
   "execution_count": 2,
   "metadata": {},
   "outputs": [
    {
     "data": {
      "text/html": [
       "<div>\n",
       "<style scoped>\n",
       "    .dataframe tbody tr th:only-of-type {\n",
       "        vertical-align: middle;\n",
       "    }\n",
       "\n",
       "    .dataframe tbody tr th {\n",
       "        vertical-align: top;\n",
       "    }\n",
       "\n",
       "    .dataframe thead th {\n",
       "        text-align: right;\n",
       "    }\n",
       "</style>\n",
       "<table border=\"1\" class=\"dataframe\">\n",
       "  <thead>\n",
       "    <tr style=\"text-align: right;\">\n",
       "      <th></th>\n",
       "      <th>id</th>\n",
       "      <th>sentiment</th>\n",
       "      <th>review</th>\n",
       "    </tr>\n",
       "  </thead>\n",
       "  <tbody>\n",
       "    <tr>\n",
       "      <th>0</th>\n",
       "      <td>6678_2</td>\n",
       "      <td>0</td>\n",
       "      <td>This is a copy of the 1948 Doris Day classic, ...</td>\n",
       "    </tr>\n",
       "    <tr>\n",
       "      <th>1</th>\n",
       "      <td>11589_3</td>\n",
       "      <td>0</td>\n",
       "      <td>Bottom-of-the-Freddy barrel. This is the worst...</td>\n",
       "    </tr>\n",
       "    <tr>\n",
       "      <th>2</th>\n",
       "      <td>6760_2</td>\n",
       "      <td>0</td>\n",
       "      <td>Renown writer Mark Redfield (as Edgar Allen Po...</td>\n",
       "    </tr>\n",
       "    <tr>\n",
       "      <th>3</th>\n",
       "      <td>1150_4</td>\n",
       "      <td>0</td>\n",
       "      <td>Although there are some snippets in this 4-par...</td>\n",
       "    </tr>\n",
       "    <tr>\n",
       "      <th>4</th>\n",
       "      <td>11913_4</td>\n",
       "      <td>0</td>\n",
       "      <td>A good idea, badly implemented. While that cou...</td>\n",
       "    </tr>\n",
       "  </tbody>\n",
       "</table>\n",
       "</div>"
      ],
      "text/plain": [
       "        id  sentiment                                             review\n",
       "0   6678_2          0  This is a copy of the 1948 Doris Day classic, ...\n",
       "1  11589_3          0  Bottom-of-the-Freddy barrel. This is the worst...\n",
       "2   6760_2          0  Renown writer Mark Redfield (as Edgar Allen Po...\n",
       "3   1150_4          0  Although there are some snippets in this 4-par...\n",
       "4  11913_4          0  A good idea, badly implemented. While that cou..."
      ]
     },
     "execution_count": 2,
     "metadata": {},
     "output_type": "execute_result"
    }
   ],
   "source": [
    "df_text = pd.read_table(\"feedback_data.tsv\")\n",
    "df_text.head()"
   ]
  },
  {
   "cell_type": "markdown",
   "metadata": {},
   "source": [
    "В колонке `sentiment` находятся числа `0` и `1`. `1` - если отзыв положительный, `0` - если отрицательный\n",
    "\n",
    "В данной задаче `sentiment` является целевой переменной - мы хотим по тексту понять, является ли отзыв положительным или отрицательным\n",
    "\n",
    "На практике эта задача нужна для мониторинга упоминаний компании в социальных сетях. Негативные отзывы можно обрабатывать и отвечать на них вежливо сотрудниками службы поддержки"
   ]
  },
  {
   "cell_type": "markdown",
   "metadata": {},
   "source": [
    "Выделим целевую переменную в отдельный вектор и удалим ее из данных. Также уделим из данных колонку `id`, которая обозначает id фильма, так как нам не нужна информация о порядковом номере фильма."
   ]
  },
  {
   "cell_type": "code",
   "execution_count": 3,
   "metadata": {},
   "outputs": [
    {
     "data": {
      "text/plain": [
       "array([0, 0, 0, ..., 1, 1, 1], dtype=int64)"
      ]
     },
     "execution_count": 3,
     "metadata": {},
     "output_type": "execute_result"
    }
   ],
   "source": [
    "y = df_text['sentiment'].values\n",
    "y"
   ]
  },
  {
   "cell_type": "code",
   "execution_count": 4,
   "metadata": {},
   "outputs": [
    {
     "data": {
      "text/plain": [
       "(20000, 1)"
      ]
     },
     "execution_count": 4,
     "metadata": {},
     "output_type": "execute_result"
    }
   ],
   "source": [
    "df_text.drop(['id', 'sentiment'], axis=1, inplace=True)\n",
    "df_text.shape"
   ]
  },
  {
   "cell_type": "markdown",
   "metadata": {},
   "source": [
    "Видим, что всего есть 20 тыс отзывов"
   ]
  },
  {
   "cell_type": "code",
   "execution_count": 5,
   "metadata": {},
   "outputs": [
    {
     "data": {
      "text/plain": [
       "7500"
      ]
     },
     "execution_count": 5,
     "metadata": {},
     "output_type": "execute_result"
    }
   ],
   "source": [
    "np.sum(y == 1)"
   ]
  },
  {
   "cell_type": "code",
   "execution_count": 6,
   "metadata": {},
   "outputs": [
    {
     "data": {
      "text/plain": [
       "12500"
      ]
     },
     "execution_count": 6,
     "metadata": {},
     "output_type": "execute_result"
    }
   ],
   "source": [
    "np.sum(y == 0)"
   ]
  },
  {
   "cell_type": "markdown",
   "metadata": {},
   "source": [
    "Из них 7500 отзывов являются положительными, а остальные 12500 отзывов - отрицательными"
   ]
  },
  {
   "cell_type": "markdown",
   "metadata": {},
   "source": [
    "Посмотрим поближе на данные - какие отзывы положительные, а какие отрицательные"
   ]
  },
  {
   "cell_type": "markdown",
   "metadata": {},
   "source": [
    "Вот пример двух отрицательных отзывов (целевая метка у них равна `0`)"
   ]
  },
  {
   "cell_type": "code",
   "execution_count": 7,
   "metadata": {},
   "outputs": [
    {
     "name": "stdout",
     "output_type": "stream",
     "text": [
      "This is a copy of the 1948 Doris Day classic, Romance on the High Seas.<br /><br />The story line is more or less same but is contemporary. Govinda plays a sharp witted fellow who replaces the husband on the trip. While Rani plays the college friend of the wife who does her the same favour. They ostensibly try to catch each other out while the actual husband and wife tries to trip each other in Bombay.<br /><br />On the trip, Govinda mistakes another girl for Sanjiv's wife and spies on her while falling in love with the ravishing Rani.<br /><br />Lever plays a dual role of father and son both lawyers specialising in divorce proceedings. They are pitted against each other for the warring couple.<br /><br />It is a poor attempt at copying the original classics and the songs are quite appalling. The comedy is slap-stick and will not make one laugh too much.\n",
      "\n",
      "0\n"
     ]
    }
   ],
   "source": [
    "review_index = 0\n",
    "print(df_text['review'][review_index])\n",
    "print()\n",
    "print(y[review_index])"
   ]
  },
  {
   "cell_type": "code",
   "execution_count": 8,
   "metadata": {},
   "outputs": [
    {
     "name": "stdout",
     "output_type": "stream",
     "text": [
      "I'm sure to people watching this move outside of Britian this film will be an entertaining watch, but for someone from the UK it's painful in it's errors.<br /><br />Right at the start of the film Elijah Wood gets off a tube at Bank station, which has been trashed. He says to his sister, who he's meeting, \\What happened here\\\" and she replies \\\"Oh Tottenham were in town yesterday\\\"!!! Tottenham are in town already.. they're part of the town, they don't have to go there! And if Tottenham fans wanted to fight other fans the last place on earth they'd do it is Bank station, where there are probably more security cameras than anywhere else in the world.<br /><br />There are several other similar errors but the biggest failing for me is the actor who plays the lead hooligan. He clearly decided it wasn't worth trying to speak with an East End accent and instead opted for a Dick Van Dyke style mock-ney which made my ears bleed. It was accentuated by the fact the rest of his gang all spoke in the way you'd expect West Ham fans to speak. This error made him unbelievable in the role and really spoilt the film.\"\n",
      "\n",
      "0\n"
     ]
    }
   ],
   "source": [
    "review_index = 10\n",
    "print(df_text['review'][review_index])\n",
    "print()\n",
    "print(y[review_index])"
   ]
  },
  {
   "cell_type": "markdown",
   "metadata": {},
   "source": [
    "А вот пример двух положительных отзывов (целевая метка у них равна `1`)"
   ]
  },
  {
   "cell_type": "code",
   "execution_count": 9,
   "metadata": {},
   "outputs": [
    {
     "name": "stdout",
     "output_type": "stream",
     "text": [
      "Pandro S. Berman was \\In Charge of Production\\\" but that made him the so-called Line Producer. But who produced this epic, filmed not in Arizona but in California's Mohave Desert where scavengers have made off with all of the remnants of the \\\"gold temple\\\", the Thuggee huts, the British outpost at Muri, the village of Tantrapur, etc. The minor technical faults can and must be forgiven. What's unforgivable is the lack of an Oscar for best music, although maybe the Academy didn't offer such at the time. A single theme was played in various tempos including waltz, march and sweet, mood-setting. Brilliant! One of the curious aspects of the production was the widow Kipling's demands. An actor playing Kipling appears briefly before and after the battle scenes. In the initial release his scenes were cut, per Mrs. Kipling's demands. Later they were included and lent a \\\"connection\\\" of Kipling's immortal poem to Ben Hecht's screenplay. Interestingly, this very typically and pro-British story was by a great screenwriter who himself hated the British.\"\n",
      "\n",
      "1\n"
     ]
    }
   ],
   "source": [
    "review_index = 18000\n",
    "print(df_text['review'][review_index])\n",
    "print()\n",
    "print(y[review_index])"
   ]
  },
  {
   "cell_type": "code",
   "execution_count": 10,
   "metadata": {},
   "outputs": [
    {
     "name": "stdout",
     "output_type": "stream",
     "text": [
      "What can i say about a tale such as this? This magical tale has followed me from my early childhood,evoking warm memories in my heart.The characters take you to to so many whimsical places making you want more of each scene. For example in the market there were so many different flavors of lore. I loved the exotic dancers that accompanied the steel drums.<br /><br />The story line was wonderful.I wanted so badly for Landsbury to decide to keep the precocious children and for her to also stay with Mr.Brown,and find the other half of the spell so that the men less armor could win the war.<br /><br />I am still a child inside,and this movie appeals to my inner child like no other. This movie is my definite favorite of all times. I hope that all children will be able to watch this classic and be swept away,and transported into another time.\n",
      "\n",
      "1\n"
     ]
    }
   ],
   "source": [
    "review_index = 19000\n",
    "print(df_text['review'][review_index])\n",
    "print()\n",
    "print(y[review_index])"
   ]
  },
  {
   "cell_type": "markdown",
   "metadata": {},
   "source": [
    "Интуитивно понятно, что хорошие отзывы будут содержать больше положительно окраженных слов (`good`, `interesting`, `wonderful`, `great`, `like`, и.т.д.), а отрицательные отзывы будут содержать больше отрицательно окрашенных слов (`poor`, `boring`, `dislike`). А есть слова, которые в контексте с другими могут менять окраску отзыва (например `I don't like`, хотя казалось бы, слово `like` должно делать отзыв более положительно окрашенным)\n",
    "\n",
    "**Идея заключается в том**, чтобы с помощью машинного обучения автоматически понять, какие слова являются наиболее характерными и специфичными для понимания тональности отзыва. При этом о словах мы не будем знать ничего кроме того, что весь отзыв является положительным или отрицательным."
   ]
  },
  {
   "cell_type": "markdown",
   "metadata": {},
   "source": [
    "Для начала импортируем необходимые модули для работы с данными"
   ]
  },
  {
   "cell_type": "code",
   "execution_count": 11,
   "metadata": {},
   "outputs": [],
   "source": [
    "from matplotlib import pyplot as plt\n",
    "from sklearn.model_selection import train_test_split\n",
    "import matplotlib\n",
    "%matplotlib inline\n",
    "\n",
    "import time\n",
    "import scipy\n",
    "import matplotlib.pyplot as plt\n",
    "from sklearn.preprocessing import LabelEncoder\n",
    "from sklearn.preprocessing import OneHotEncoder\n",
    "from sklearn.model_selection import train_test_split\n",
    "from sklearn.feature_extraction.text import CountVectorizer\n",
    "\n",
    "import warnings\n",
    "warnings.filterwarnings(\"ignore\")"
   ]
  },
  {
   "cell_type": "markdown",
   "metadata": {},
   "source": [
    "Для оценивания качества в данной задаче мы будем использовать отложенную выборку. Разделите все данные на две части: 16000 объектов будут в обучающей выборке и 4000 объектов — в тестовой.\n",
    "\n",
    "При разбиении выборки на две части, необходимо будет учесть следующие особенности разбиения:\n",
    " - разбиение должно быть воспроизводимо;\n",
    " - соотношение классов в каждой из частей должно сохраняться (например, при использовании функции *train_test_split* указать *stratify*)."
   ]
  },
  {
   "cell_type": "markdown",
   "metadata": {},
   "source": [
    "Одна из сложностей данной задачи — текстовое представление данных, так как не существует какого-то универсального способа извлечения признаков из текстов. По ходу работы мы получим несколько наборов признаков, которые будем сравнивать между собой."
   ]
  },
  {
   "cell_type": "markdown",
   "metadata": {},
   "source": [
    "Для начала попробуем самый простой подход, а именно [bag-of-words](https://en.wikipedia.org/wiki/Bag-of-words_model) кодирование данных. С помощью него каждый текст будет представлен в виде вектора, размер которого равен размеру словаря, а на каждой позиции стоит число, сколько раз соответствующее слово встретилось в этом тексте. Для данного подхода хорошей практикой является фильтрация стоп-слов (то есть наиболее частых и общеупотребимых слов, которые не несут большой смысловой нагрузки - предлоги, союзы, местоимения).\n",
    "\n",
    "Такое представление можно получить используя класс [CountVectorizer](http://scikit-learn.org/stable/modules/generated/sklearn.feature_extraction.text.CountVectorizer.html#sklearn.feature_extraction.text.CountVectorizer) из библиотеки sklearn. Одно из удобств данного метода состоит в том, что возвращаемый результат является [sparse](http://docs.scipy.org/doc/scipy-0.15.1/reference/sparse.html)-матрицей, так как при таком преобразовании получается достаточно много нулей. Более подробно про такие матрицы было рассказано на [семинаре](https://nbviewer.jupyter.org/urls/dl.dropbox.com/s/xswzs2g414wggh9/seminar_8.ipynb), также про это можно прочитать, например, [здесь](http://www.scipy-lectures.org/advanced/scipy_sparse/index.html).\n",
    "\n",
    "Кодирование текстовых данных с помощью *bag-of-words* написано за вас. Здесь и в дальнейшем будем обучать преобразование на обучающей выборке, после чего применять его к тестовой."
   ]
  },
  {
   "cell_type": "code",
   "execution_count": 12,
   "metadata": {},
   "outputs": [],
   "source": [
    "X_train, X_test, y_train, y_test = train_test_split(df_text['review'].values, y, test_size=0.2, stratify=y, random_state=42)"
   ]
  },
  {
   "cell_type": "code",
   "execution_count": 75,
   "metadata": {},
   "outputs": [],
   "source": [
    "vectorizer = CountVectorizer()\n",
    "X_train_bow = vectorizer.fit_transform(X_train)\n",
    "X_test_bow = vectorizer.transform(X_test)"
   ]
  },
  {
   "cell_type": "code",
   "execution_count": 14,
   "metadata": {},
   "outputs": [
    {
     "name": "stdout",
     "output_type": "stream",
     "text": [
      "Размер словаря: 62407\n"
     ]
    }
   ],
   "source": [
    "vocabulary = vectorizer.get_feature_names()\n",
    "print('Размер словаря: %d'%len(vocabulary))"
   ]
  },
  {
   "cell_type": "code",
   "execution_count": 15,
   "metadata": {},
   "outputs": [
    {
     "data": {
      "text/plain": [
       "<16000x62407 sparse matrix of type '<class 'numpy.int64'>'\n",
       "\twith 2204287 stored elements in Compressed Sparse Row format>"
      ]
     },
     "execution_count": 15,
     "metadata": {},
     "output_type": "execute_result"
    }
   ],
   "source": [
    "X_train_bow"
   ]
  },
  {
   "cell_type": "code",
   "execution_count": 16,
   "metadata": {},
   "outputs": [
    {
     "data": {
      "text/plain": [
       "<4000x62407 sparse matrix of type '<class 'numpy.int64'>'\n",
       "\twith 542271 stored elements in Compressed Sparse Row format>"
      ]
     },
     "execution_count": 16,
     "metadata": {},
     "output_type": "execute_result"
    }
   ],
   "source": [
    "X_test_bow"
   ]
  },
  {
   "cell_type": "markdown",
   "metadata": {},
   "source": [
    "Теперь мы получили привычное нам представление данных в машинном обучении - матрица признаков и вектор ответов"
   ]
  },
  {
   "cell_type": "markdown",
   "metadata": {},
   "source": [
    "# Часть 1 - 60 баллов"
   ]
  },
  {
   "cell_type": "markdown",
   "metadata": {
    "collapsed": true
   },
   "source": [
    "## 1.1 Обучение алгоритмов классификации и подсчет метрик (30 баллов)\n",
    "**По 15 баллов за логистическую регрессию и за случайный лес**\n",
    "\n",
    "Обучите логистическую регрессию и случайный лес с 500 деревьев на *bag-of-words* представлении выборки (датафреймы `X_train_bow` и целевая переменная `y_train`) и измерьте качество на тестовых данных (`X_test_bow` и `y_test`) с помощью трех описанных выше метрик: ``Accuracy``, ``Precision``, ``Recall``"
   ]
  },
  {
   "cell_type": "code",
   "execution_count": 17,
   "metadata": {},
   "outputs": [
    {
     "data": {
      "text/plain": [
       "LogisticRegression(C=1.0, class_weight=None, dual=False, fit_intercept=True,\n",
       "                   intercept_scaling=1, l1_ratio=None, max_iter=100,\n",
       "                   multi_class='auto', n_jobs=None, penalty='l2',\n",
       "                   random_state=None, solver='lbfgs', tol=0.0001, verbose=0,\n",
       "                   warm_start=False)"
      ]
     },
     "execution_count": 17,
     "metadata": {},
     "output_type": "execute_result"
    }
   ],
   "source": [
    "from sklearn.linear_model import LogisticRegression\n",
    "log_reg_classifier = LogisticRegression()\n",
    "log_reg_classifier.fit(X_train_bow, y_train)"
   ]
  },
  {
   "cell_type": "code",
   "execution_count": 18,
   "metadata": {},
   "outputs": [],
   "source": [
    "from sklearn.metrics import accuracy_score, precision_score, recall_score"
   ]
  },
  {
   "cell_type": "code",
   "execution_count": 19,
   "metadata": {},
   "outputs": [],
   "source": [
    "y_pred = log_reg_classifier.predict(X_test_bow)"
   ]
  },
  {
   "cell_type": "code",
   "execution_count": 20,
   "metadata": {},
   "outputs": [],
   "source": [
    "logreg_accuracy = accuracy_score(y_test, y_pred)\n",
    "logreg_precision = precision_score(y_test, y_pred)\n",
    "logreg_recall = recall_score(y_test, y_pred)"
   ]
  },
  {
   "cell_type": "code",
   "execution_count": 21,
   "metadata": {},
   "outputs": [
    {
     "name": "stdout",
     "output_type": "stream",
     "text": [
      "Logistic Regression results\n",
      "Accuracy test score:\t 0.87\n",
      "Precision test score:\t 0.825\n",
      "Recall test score:\t 0.828\n"
     ]
    }
   ],
   "source": [
    "print(\"Logistic Regression results\")\n",
    "print(\"Accuracy test score:\\t\", round(logreg_accuracy,3) )\n",
    "print(\"Precision test score:\\t\" , round(logreg_precision,3))\n",
    "print(\"Recall test score:\\t\" , round(logreg_recall,3))"
   ]
  },
  {
   "cell_type": "code",
   "execution_count": 22,
   "metadata": {},
   "outputs": [
    {
     "data": {
      "text/plain": [
       "RandomForestClassifier(bootstrap=True, ccp_alpha=0.0, class_weight=None,\n",
       "                       criterion='gini', max_depth=None, max_features='auto',\n",
       "                       max_leaf_nodes=None, max_samples=None,\n",
       "                       min_impurity_decrease=0.0, min_impurity_split=None,\n",
       "                       min_samples_leaf=1, min_samples_split=2,\n",
       "                       min_weight_fraction_leaf=0.0, n_estimators=500,\n",
       "                       n_jobs=None, oob_score=False, random_state=None,\n",
       "                       verbose=0, warm_start=False)"
      ]
     },
     "execution_count": 22,
     "metadata": {},
     "output_type": "execute_result"
    }
   ],
   "source": [
    "from sklearn.ensemble import RandomForestClassifier\n",
    "random_forest_classifier = RandomForestClassifier(n_estimators=500)\n",
    "random_forest_classifier.fit(X_train_bow, y_train)"
   ]
  },
  {
   "cell_type": "code",
   "execution_count": 23,
   "metadata": {},
   "outputs": [],
   "source": [
    "randomForest_y_pred = random_forest_classifier.predict(X_test_bow)"
   ]
  },
  {
   "cell_type": "code",
   "execution_count": 24,
   "metadata": {},
   "outputs": [
    {
     "name": "stdout",
     "output_type": "stream",
     "text": [
      "Random Forest results\n",
      "Accuracy test score:\t 0.798\n",
      "Precision test score:\t 0.941\n",
      "Recall test score:\t 0.491\n"
     ]
    }
   ],
   "source": [
    "randomForest_accuracy = accuracy_score(y_test, randomForest_y_pred)\n",
    "randomForest_precision = precision_score(y_test, randomForest_y_pred)\n",
    "randomForest_recall = recall_score(y_test, randomForest_y_pred)\n",
    "\n",
    "print(\"Random Forest results\")\n",
    "print(\"Accuracy test score:\\t\", round( randomForest_accuracy,3) )\n",
    "print(\"Precision test score:\\t\", round( randomForest_precision,3) )\n",
    "print(\"Recall test score:\\t\", round(randomForest_recall,3) )"
   ]
  },
  {
   "cell_type": "markdown",
   "metadata": {},
   "source": [
    "Посмотрев на указанные метрики, можно понять, что классификаторы неплохо справляются с нулевым классом и похуже — с первым. Скорее всего, это является следствием того, что положительных отзывов почти вдвое меньше чем отрицательных. В дальнейшем нас будет интересовать как классификатор справляется именно с положительными отзывами (то есть с первым классом)."
   ]
  },
  {
   "cell_type": "markdown",
   "metadata": {},
   "source": [
    "## 1.2 Построение ROC кривой и Precision-Recall кривой - 30 баллов\n",
    "**по 15 баллов за ROC кривую и Precision-Recall кривую**\n",
    "\n",
    "Постройте *Precision-Recall* и *ROC* кривые обученных выше классификаторов (каждый тип кривой на отдельном графике), а также вычислите площадь под ними. Для этого удобно воспользоваться функциями [precision_recall_curve](http://scikit-learn.org/stable/modules/generated/sklearn.metrics.precision_recall_curve.html), [roc_curve](http://scikit-learn.org/stable/modules/generated/sklearn.metrics.roc_curve.html) и [auc](http://scikit-learn.org/stable/modules/generated/sklearn.metrics.auc.html#sklearn.metrics.auc). \n",
    "\n",
    "Не забудьте, что в данном случае необходимо использовать метод `predict_proba` для получения оценки принадлежности к первому классу."
   ]
  },
  {
   "cell_type": "markdown",
   "metadata": {},
   "source": [
    "### ROC curve (15 баллов)"
   ]
  },
  {
   "cell_type": "markdown",
   "metadata": {},
   "source": [
    "Руководство по построению ROC-кривой с кодом: https://stackabuse.com/understanding-roc-curves-with-python/\n",
    "\n",
    "Еще одно руководство по построению ROC-кривой с кодом: https://machinelearningmastery.com/roc-curves-and-precision-recall-curves-for-classification-in-python/\n",
    "\n",
    "Документация в sklearn: https://scikit-learn.org/stable/auto_examples/model_selection/plot_roc.html"
   ]
  },
  {
   "cell_type": "code",
   "execution_count": 25,
   "metadata": {},
   "outputs": [],
   "source": [
    "from sklearn.metrics import roc_curve, auc, precision_recall_curve"
   ]
  },
  {
   "cell_type": "code",
   "execution_count": 26,
   "metadata": {},
   "outputs": [],
   "source": [
    "def roc_curve_show (false_positive_rate, true_positive_rate, title):\n",
    "    # задаем размер графика\n",
    "    plt.figure(figsize=(10,7))\n",
    "    \n",
    "    plt.plot(false_positive_rate, true_positive_rate, label = \"ROC\")\n",
    "    plt.axes()\n",
    "    plt.xlabel('FPR', size=20)\n",
    "    plt.ylabel('TPR', size=20)\n",
    "    plt.legend()\n",
    "    plt.title(title, size = 20)\n",
    "    plt.grid()\n",
    "\n",
    "    plt.show()\n"
   ]
  },
  {
   "cell_type": "code",
   "execution_count": 27,
   "metadata": {
    "scrolled": false
   },
   "outputs": [
    {
     "data": {
      "image/png": "[encoded data removed]",
      "text/plain": [
       "<Figure size 720x504 with 1 Axes>"
      ]
     },
     "metadata": {
      "needs_background": "light"
     },
     "output_type": "display_data"
    },
    {
     "name": "stdout",
     "output_type": "stream",
     "text": [
      "Logistic Regression AUC\t 0.936\n"
     ]
    }
   ],
   "source": [
    "\n",
    "# получаем от обученных моделей вероятности принадлежности объектов к 1му классу\n",
    "y_pred_log_reg = log_reg_classifier.predict_proba(X_test_bow)[:, 1]\n",
    "y_pred_random_forest = random_forest_classifier.predict_proba(X_test_bow)[:, 1]\n",
    "\n",
    "# Дальне постройте ROC-кривую, используя руководства по трем ссылкам выше\n",
    "\n",
    "log_reg_fpr, log_reg_tpr, _ = roc_curve(y_test, y_pred_log_reg)\n",
    "random_forest_fpr, random_forest_tpr, _ = roc_curve(y_test, y_pred_random_forest)\n",
    "\n",
    "    \n",
    "roc_curve_show(log_reg_fpr, log_reg_tpr, \"Logistic Regression\")\n",
    "print(\"Logistic Regression AUC\\t\", round(auc(log_reg_fpr, log_reg_tpr),3))"
   ]
  },
  {
   "cell_type": "code",
   "execution_count": 28,
   "metadata": {},
   "outputs": [
    {
     "data": {
      "image/png": "[encoded data removed]",
      "text/plain": [
       "<Figure size 720x504 with 1 Axes>"
      ]
     },
     "metadata": {
      "needs_background": "light"
     },
     "output_type": "display_data"
    },
    {
     "name": "stdout",
     "output_type": "stream",
     "text": [
      "Random Forest AUC\t 0.93\n"
     ]
    }
   ],
   "source": [
    "roc_curve_show(random_forest_fpr, random_forest_tpr, \"Random Forest\")\n",
    "print(\"Random Forest AUC\\t\", round(auc(random_forest_fpr, random_forest_tpr),3))"
   ]
  },
  {
   "cell_type": "markdown",
   "metadata": {},
   "source": [
    "$$\n",
    "precision = \\frac{TP}{TP+FP}\n",
    "$$\n",
    "$$\n",
    "recall = \\frac{TP}{TP+FN}\n",
    "$$"
   ]
  },
  {
   "cell_type": "markdown",
   "metadata": {},
   "source": [
    "$$\n",
    "TPR = \\frac{TP}{TP+FN}\n",
    "$$\n",
    "$$\n",
    "FPR = \\frac{FP}{FP+TN}\n",
    "$$"
   ]
  },
  {
   "cell_type": "markdown",
   "metadata": {},
   "source": [
    "### Precision-Recall curve (15 баллов)"
   ]
  },
  {
   "cell_type": "markdown",
   "metadata": {},
   "source": [
    "Руководство по построению Precision-Recall кривой с кодом: https://machinelearningmastery.com/roc-curves-and-precision-recall-curves-for-classification-in-python/"
   ]
  },
  {
   "cell_type": "code",
   "execution_count": 29,
   "metadata": {},
   "outputs": [],
   "source": [
    "def precision_recall_curve_show (precisions, recall, title):\n",
    "    # задаем размер графика\n",
    "    plt.figure(figsize=(10,7))\n",
    "    \n",
    "    plt.plot(recall, precisions, label = \"Precision-Recall Curve\")\n",
    "    plt.axes()\n",
    "    plt.xlabel('Recall', size=20)\n",
    "    plt.ylabel('Precision', size=20)\n",
    "    plt.legend()\n",
    "    plt.title(title, size=20)\n",
    "    plt.grid()\n",
    "\n",
    "\n",
    "    plt.show()\n"
   ]
  },
  {
   "cell_type": "code",
   "execution_count": 30,
   "metadata": {},
   "outputs": [
    {
     "data": {
      "image/png": "[encoded data removed]",
      "text/plain": [
       "<Figure size 720x504 with 1 Axes>"
      ]
     },
     "metadata": {
      "needs_background": "light"
     },
     "output_type": "display_data"
    },
    {
     "name": "stdout",
     "output_type": "stream",
     "text": [
      "Logistic Regression AUC\t 0.896\n"
     ]
    }
   ],
   "source": [
    "log_reg_precision, log_reg_recall, _ = precision_recall_curve(y_test, y_pred_log_reg)\n",
    "random_forest_precision, random_forest_recall, _ = precision_recall_curve(y_test, y_pred_random_forest)\n",
    " \n",
    "precision_recall_curve_show(log_reg_precision, log_reg_recall, \"Logistic Regression\")\n",
    "print(\"Logistic Regression AUC\\t\", round(auc(log_reg_recall, log_reg_precision),3))"
   ]
  },
  {
   "cell_type": "code",
   "execution_count": 31,
   "metadata": {},
   "outputs": [
    {
     "data": {
      "image/png": "[encoded data removed]",
      "text/plain": [
       "<Figure size 720x504 with 1 Axes>"
      ]
     },
     "metadata": {
      "needs_background": "light"
     },
     "output_type": "display_data"
    },
    {
     "name": "stdout",
     "output_type": "stream",
     "text": [
      "Random Forest AUC\t 0.894\n"
     ]
    }
   ],
   "source": [
    "precision_recall_curve_show(random_forest_precision, random_forest_recall, \"Random Forest\")\n",
    "print(\"Random Forest AUC\\t\", round(auc(random_forest_recall, random_forest_precision),3))"
   ]
  },
  {
   "cell_type": "markdown",
   "metadata": {},
   "source": [
    "В дальнейшем для экспериментов будем использовать логистическую регрессию. "
   ]
  },
  {
   "cell_type": "markdown",
   "metadata": {},
   "source": [
    "А теперь вернемся к исходной задаче. На данном этапе решения можно прийти к выводу, что предложенное кодирование текста может быть не самым удачным из-за большой матрицы объект-признак. Это ведет к ситуации, что не всякий алгоритм может быть применен в данной задаче по причине слишком большого признакового пространства, а кроме того, даже быстрые алгоритмы при наличии кросс-валидации могут начать работать медленно. Также в данных может быть шум, так как в качестве словаря были взяты все слова, даже те, которые встречались в одном-двух отзывах (например, опечатки). Поэтому кажется что неплохо было бы сократить размерность данных и по возможности избавиться от шума. \n",
    "\n",
    "## 2. Отбор признаков и уменьшение размерности (сделано за вас)\n",
    "\n",
    "### По частоте\n",
    "Попробуем сформировать выборку, в которой будут находиться только самые \"важные\" признаки, то есть в данном случае слова. Например, это можно сделать оставив топ слов по частоте (не считая стоп-слов вроде \"a\", \"the\", \"it\", ...). Кажется, что вхождение наиболее частых слов в отзыве, например, *good*, *bad* и т.д. являются вполне неплохими показателями.\n",
    "\n",
    "### С помощью машинного обучения\n",
    "Другой подход — воспользоваться имеющимися методами машинного обучения, а именно обученным на всех признаках случайным лесом. С помощью сдучайного леса есть возможность оценивать важность признаков. То есть можно выбрать топ слов, важных как признаки для задачи классификации. \n"
   ]
  },
  {
   "cell_type": "markdown",
   "metadata": {},
   "source": [
    "Сформируем две новые выборки, где каждый объект будет иметь 15000 признаков, следующим образом:\n",
    " - топ самых частотных слов\n",
    " - топ наиболее \"важных\" слов с помощью случайного леса"
   ]
  },
  {
   "cell_type": "markdown",
   "metadata": {},
   "source": [
    "### Отбор признаков по частоте: оставляем топ 15К самых частых слов."
   ]
  },
  {
   "cell_type": "code",
   "execution_count": 32,
   "metadata": {},
   "outputs": [
    {
     "name": "stdout",
     "output_type": "stream",
     "text": [
      "Indices of top-15K frequent words in the vocabulary are [55389  2728 38925 ... 37552 53382 47383]\n"
     ]
    }
   ],
   "source": [
    "top_15000_frequences_indices = np.asarray(np.argsort(-X_train_bow.sum(axis=0)))[0][:15000]\n",
    "print(\"Indices of top-15K frequent words in the vocabulary are\", top_15000_frequences_indices)"
   ]
  },
  {
   "cell_type": "code",
   "execution_count": 33,
   "metadata": {},
   "outputs": [],
   "source": [
    "vocab = np.array(vectorizer.get_feature_names())"
   ]
  },
  {
   "cell_type": "code",
   "execution_count": 34,
   "metadata": {},
   "outputs": [],
   "source": [
    "top_words_frequency = vocab[top_15000_frequences_indices]"
   ]
  },
  {
   "cell_type": "code",
   "execution_count": 35,
   "metadata": {},
   "outputs": [],
   "source": [
    "X_train_frequency = X_train_bow[:, top_15000_frequences_indices]\n",
    "X_test_frequency = X_test_bow[:, top_15000_frequences_indices]"
   ]
  },
  {
   "cell_type": "code",
   "execution_count": 36,
   "metadata": {},
   "outputs": [
    {
     "name": "stdout",
     "output_type": "stream",
     "text": [
      "(16000, 15000)\n",
      "(4000, 15000)\n"
     ]
    }
   ],
   "source": [
    "print(X_train_frequency.shape)\n",
    "print(X_test_frequency.shape)"
   ]
  },
  {
   "cell_type": "markdown",
   "metadata": {},
   "source": [
    "### Отбор признаков с помощью случайного леса."
   ]
  },
  {
   "cell_type": "markdown",
   "metadata": {},
   "source": [
    "#### Для начала уберем стоп-слова (предлоги, союзы, местоимения)"
   ]
  },
  {
   "cell_type": "code",
   "execution_count": 37,
   "metadata": {},
   "outputs": [],
   "source": [
    "vectorizerWithStopWords = CountVectorizer(stop_words='english')\n",
    "X_train_minus_stop_words = vectorizerWithStopWords.fit_transform(X_train)\n",
    "vocab_minus_stop_words = np.array(vectorizerWithStopWords.get_feature_names())\n",
    "X_test_minus_stop_words = vectorizerWithStopWords.transform(X_test)"
   ]
  },
  {
   "cell_type": "code",
   "execution_count": 38,
   "metadata": {},
   "outputs": [
    {
     "name": "stdout",
     "output_type": "stream",
     "text": [
      "(16000, 62097)\n"
     ]
    }
   ],
   "source": [
    "print(X_train_minus_stop_words.shape)"
   ]
  },
  {
   "cell_type": "markdown",
   "metadata": {},
   "source": [
    "Как видим, после отсева стоп-слов словарь, полученный по тренировочной выборке, уже имеет меньший размер, чем в предыдущем пункте, что логично (62097 после фильтрации стоп-слов, 62407 без фильтрации стоп-слов)"
   ]
  },
  {
   "cell_type": "markdown",
   "metadata": {},
   "source": [
    "#### Обучим случайный лес на полученных признаках"
   ]
  },
  {
   "cell_type": "code",
   "execution_count": 39,
   "metadata": {},
   "outputs": [
    {
     "data": {
      "text/plain": [
       "RandomForestClassifier(bootstrap=True, ccp_alpha=0.0, class_weight=None,\n",
       "                       criterion='gini', max_depth=None, max_features='auto',\n",
       "                       max_leaf_nodes=None, max_samples=None,\n",
       "                       min_impurity_decrease=0.0, min_impurity_split=None,\n",
       "                       min_samples_leaf=1, min_samples_split=2,\n",
       "                       min_weight_fraction_leaf=0.0, n_estimators=500,\n",
       "                       n_jobs=-1, oob_score=False, random_state=42, verbose=0,\n",
       "                       warm_start=False)"
      ]
     },
     "execution_count": 39,
     "metadata": {},
     "output_type": "execute_result"
    }
   ],
   "source": [
    "rf_clf = RandomForestClassifier(n_estimators=500, n_jobs=-1, random_state=42)\n",
    "rf_clf.fit(X_train_minus_stop_words, y_train)"
   ]
  },
  {
   "cell_type": "markdown",
   "metadata": {},
   "source": [
    "Соберем слова, которые обученный случайный посчитал наиболее важными"
   ]
  },
  {
   "cell_type": "code",
   "execution_count": 40,
   "metadata": {},
   "outputs": [],
   "source": [
    "importances = rf_clf.feature_importances_\n",
    "top_importances_random_forest = np.argsort(-importances)[:15000]\n",
    "top_words_random_forest = vocab_minus_stop_words[top_importances_random_forest]"
   ]
  },
  {
   "cell_type": "markdown",
   "metadata": {},
   "source": [
    "Преобразуем данные"
   ]
  },
  {
   "cell_type": "code",
   "execution_count": 41,
   "metadata": {},
   "outputs": [],
   "source": [
    "X_train_rand_forest = X_train_minus_stop_words[:, top_importances_random_forest]\n",
    "X_test_rand_forest = X_test_minus_stop_words[:, top_importances_random_forest]"
   ]
  },
  {
   "cell_type": "code",
   "execution_count": 42,
   "metadata": {},
   "outputs": [
    {
     "name": "stdout",
     "output_type": "stream",
     "text": [
      "(16000, 15000)\n",
      "(4000, 15000)\n"
     ]
    }
   ],
   "source": [
    "print(X_train_rand_forest.shape)\n",
    "print(X_test_rand_forest.shape)"
   ]
  },
  {
   "cell_type": "markdown",
   "metadata": {},
   "source": [
    "# Часть 3. Обучение алгоритмов на выборке с пониженной размерностью\n",
    "# 20 баллов\n",
    "## 3.1 На трех выборках (*bag-of-words* и двух новых) постройте *roc*-кривые, вычислив площадь под ними - 10 баллов"
   ]
  },
  {
   "cell_type": "markdown",
   "metadata": {},
   "source": [
    "#### Обучите логистическую регрессию на данных с 15000 признаков, отобранных двумя различными способами"
   ]
  },
  {
   "cell_type": "code",
   "execution_count": 43,
   "metadata": {},
   "outputs": [
    {
     "data": {
      "text/plain": [
       "<Figure size 720x504 with 0 Axes>"
      ]
     },
     "execution_count": 43,
     "metadata": {},
     "output_type": "execute_result"
    },
    {
     "data": {
      "text/plain": [
       "<Figure size 720x504 with 0 Axes>"
      ]
     },
     "metadata": {},
     "output_type": "display_data"
    }
   ],
   "source": [
    "# задаем размер будущего графика\n",
    "plt.figure(figsize=(10,7))"
   ]
  },
  {
   "cell_type": "code",
   "execution_count": 44,
   "metadata": {},
   "outputs": [
    {
     "data": {
      "image/png": "[encoded data removed]",
      "text/plain": [
       "<Figure size 432x288 with 1 Axes>"
      ]
     },
     "metadata": {
      "needs_background": "light"
     },
     "output_type": "display_data"
    }
   ],
   "source": [
    "# logreg on Bag-of-words\n",
    "logreg = LogisticRegression(C=0.1)\n",
    "logreg.fit(X_train_bow, y_train)\n",
    "y_pred_lr = logreg.predict_proba(X_test_bow)[:, 1]\n",
    "fpr_lr, tpr_lr, _ = roc_curve(y_test, y_pred_lr)\n",
    "ROC_AUC_score_lr = auc(fpr_lr, tpr_lr)\n",
    "plt.plot(fpr_lr, tpr_lr, label='LogReg Bag-of-words, AUC score={}'.format(round(ROC_AUC_score_lr, 3)))\n",
    "plt.fill_between(fpr_lr, tpr_lr, alpha=0.1)\n",
    "\n",
    "\n",
    "# обучите аналогично лог.регрессию и постройте график \n",
    "# на датафрейме X_train_frequency со словами, \n",
    "# отобранными по частоте\n",
    "logreg = LogisticRegression(C=0.1)\n",
    "logreg.fit(X_train_frequency, y_train)\n",
    "logreg_y_pred_freq = logreg.predict_proba(X_test_frequency)[:, 1]\n",
    "fpr_lr_freq, tpr_lr_freq, _ = roc_curve(y_test, logreg_y_pred_freq)\n",
    "ROC_AUC_score_lr_freq = auc(fpr_lr_freq, tpr_lr_freq)\n",
    "plt.plot(fpr_lr_freq, tpr_lr_freq, label='LogReg Words Frequency, AUC score={}'.format(round(ROC_AUC_score_lr_freq, 3)))\n",
    "# plt.fill_between(fpr_lr, tpr_lr, alpha=0.1)\n",
    "\n",
    "# обучите аналогично лог.регрессию и постройте график \n",
    "# на датафрейме X_train_rand_forest со словами, \n",
    "# отобранными по важности слов, оцененных RandomForest\n",
    "logreg = LogisticRegression(C=0.1)\n",
    "logreg.fit(X_train_rand_forest, y_train)\n",
    "logreg_y_pred_rf = logreg.predict_proba(X_test_rand_forest)[:, 1]\n",
    "fpr_lr_rf, tpr_lr_rf, _ = roc_curve(y_test, logreg_y_pred_rf)\n",
    "ROC_AUC_score_lr_rf = auc(fpr_lr_rf, tpr_lr_rf)\n",
    "plt.plot(fpr_lr_rf, tpr_lr_rf, label='LogReg Random Forest Imp, AUC score={}'.format(round(ROC_AUC_score_lr_rf, 3)))\n",
    "\n",
    "plt.xlabel('FPR', fontsize=20)\n",
    "plt.ylabel('TPR', fontsize=20)\n",
    "plt.title('ROC curve for different feature selection strategies', fontsize=20)\n",
    "plt.legend(prop={'size':15}, loc='lower right')\n",
    "plt.xlim([0., 1,])\n",
    "plt.ylim([0., 1.])\n",
    "plt.show()"
   ]
  },
  {
   "cell_type": "markdown",
   "metadata": {},
   "source": [
    "Отличаются ли метрики ROC-AUC для преобразования текста Bag of Words и после сокращения размерности в 3 раза?"
   ]
  },
  {
   "cell_type": "markdown",
   "metadata": {},
   "source": [
    "**Метрики слабо отличаются, их чего можно сделать вывод что сокрещение размерности указанным способом имеет право на жизнь**\n"
   ]
  },
  {
   "cell_type": "markdown",
   "metadata": {},
   "source": []
  },
  {
   "cell_type": "markdown",
   "metadata": {},
   "source": [
    "## 3.2 - 5 баллов\n",
    "\n",
    "Что вы можете сказать о качестве этих подходов к сокращению размерности?\n",
    "Выведите топ-20 самых важных слов от случайного леса и сравните их с топ-20 наиболее частотных. Много ли общих слов?"
   ]
  },
  {
   "cell_type": "code",
   "execution_count": 45,
   "metadata": {},
   "outputs": [
    {
     "data": {
      "text/plain": [
       "array(['the', 'and', 'of', 'to', 'is', 'br', 'it', 'in', 'this', 'that',\n",
       "       'was', 'as', 'movie', 'for', 'with', 'but', 'film', 'you', 'on',\n",
       "       'not'], dtype='<U51')"
      ]
     },
     "execution_count": 45,
     "metadata": {},
     "output_type": "execute_result"
    }
   ],
   "source": [
    "# выведите первые 20 элементов списка top_words_frequency\n",
    "top_words_frequency[:20]"
   ]
  },
  {
   "cell_type": "code",
   "execution_count": 46,
   "metadata": {},
   "outputs": [
    {
     "data": {
      "text/plain": [
       "array(['bad', 'worst', 'great', 'excellent', 'waste', 'wonderful',\n",
       "       'awful', 'best', 'boring', 'terrible', 'movie', 'worse', 'perfect',\n",
       "       'plot', 'love', 'minutes', 'just', 'poor', 'amazing', 'favorite'],\n",
       "      dtype='<U51')"
      ]
     },
     "execution_count": 46,
     "metadata": {},
     "output_type": "execute_result"
    }
   ],
   "source": [
    "# выведите первые 20 элементов списка top_words_random_forest\n",
    "top_words_random_forest[:20]"
   ]
  },
  {
   "cell_type": "markdown",
   "metadata": {},
   "source": [
    "## 3.3 - 5 баллов\n",
    "\n",
    "Посчитайте, сколько слов находятся в наборах отобранных по частоте и с помощью случайного леса, то есть найдите пересечение этих двух множеств. Какая это доля от 15000 отобранных слов?\n",
    "\n",
    "Для этого используйте структуру данных `set` в Python. Примеры операций со структурой `set`, в том числе нахождение пересечения множеств, можно найти здесь: https://python-scripts.com/sets "
   ]
  },
  {
   "cell_type": "code",
   "execution_count": 47,
   "metadata": {},
   "outputs": [
    {
     "data": {
      "text/plain": [
       "0.8417333333333333"
      ]
     },
     "execution_count": 47,
     "metadata": {},
     "output_type": "execute_result"
    }
   ],
   "source": [
    "top_words_freq_set =  set(top_words_frequency)\n",
    "top_words_random_forest_set = set(top_words_random_forest)\n",
    "\n",
    "intersection = top_words_freq_set.intersection(top_words_random_forest_set)\n",
    "len(intersection) / 15000"
   ]
  },
  {
   "cell_type": "markdown",
   "metadata": {},
   "source": [
    "У вас должно получиться около 12500 общих слов, что составляет 84% от отобранных слов"
   ]
  },
  {
   "cell_type": "markdown",
   "metadata": {},
   "source": [
    "Таким образом, удалось сократить размерность более чем в три раза без сильной потери в качестве. Но даже 15000 признаков — это достаточно много. Допустим, мы хотим уменьшить размерность до 2000 признаков, однако можно заметить, что даже два предыдущих способа давали небольшое ухудшение в качестве. "
   ]
  },
  {
   "cell_type": "markdown",
   "metadata": {},
   "source": [
    "## Часть 4 (продвинутая) - 20 баллов\n",
    "## Еще более сильное понижение размерности данных\n",
    "\n",
    "Иногда данные можно описать гораздо меньшим числом признаков. Это позволяет экономить и память на хранение данных, и время обучения алгоритмов - ведь чем меньше признаков, тем бвыстрее обучаются алгоритмы.\n",
    "\n",
    "В этой части мы попробуем понизить размерность данных в 30 раз с помощью PCA (метод главных компонент) и посмотрим, как такое сильное сжатие влияет на качество классификации"
   ]
  },
  {
   "cell_type": "markdown",
   "metadata": {},
   "source": [
    "### PCA\n",
    "\n",
    "Одним из способов сокращения размерности является метод главных компонент ([PCA](https://en.wikipedia.org/wiki/Principal_component_analysis)). Это преобразование позволяет получить вес каждого признака в компоненте. Например, если применить его к bag-of-words, можно найти наиболее важные слова, влияющие на данную компоненту. Для работы с большими разреженными матрицами в sklearn рекомендуется использовать [TruncatedSVD](http://scikit-learn.org/stable/modules/generated/sklearn.decomposition.TruncatedSVD.html).\n",
    "\n",
    "## 4.1 - 10 баллов. Сокращение размерности\n",
    "\n",
    "Попробуйте сократить размерность до 2000 двумя способами:\n",
    " - наилучшим из двух предыдущих\n",
    " - для выборки со всеми признаками обучите *PCA*-преобразование \n",
    "\n",
    "Постройте новый график качества. Какой из двух подходов работает лучше?"
   ]
  },
  {
   "cell_type": "code",
   "execution_count": 48,
   "metadata": {},
   "outputs": [
    {
     "data": {
      "text/plain": [
       "(16000, 2000)"
      ]
     },
     "execution_count": 48,
     "metadata": {},
     "output_type": "execute_result"
    }
   ],
   "source": [
    "from sklearn.decomposition import TruncatedSVD\n",
    "\n",
    "truncatedSVD = TruncatedSVD(n_components=2000)\n",
    "x_train_SVD = truncatedSVD.fit_transform(X_train_bow)\n",
    "x_train_SVD.shape"
   ]
  },
  {
   "cell_type": "code",
   "execution_count": 49,
   "metadata": {},
   "outputs": [
    {
     "data": {
      "text/plain": [
       "(4000, 2000)"
      ]
     },
     "execution_count": 49,
     "metadata": {},
     "output_type": "execute_result"
    }
   ],
   "source": [
    "x_test_SVD = truncatedSVD.transform(X_test_bow)\n",
    "x_test_SVD.shape"
   ]
  },
  {
   "cell_type": "markdown",
   "metadata": {},
   "source": [
    "Теперь снизьте размерность до 2000 признаков с помощью отбора самых частых слов и с помощью случайного леса и выданных им важностей признаков\n",
    "\n",
    "Вы можете адаптитровать код из части 2, где понижение размерности сделано за вас"
   ]
  },
  {
   "cell_type": "code",
   "execution_count": 50,
   "metadata": {},
   "outputs": [
    {
     "name": "stdout",
     "output_type": "stream",
     "text": [
      "Indices of top-2K frequent words in the vocabulary are [55389  2728 38925 ...  8717 39374  2453]\n"
     ]
    }
   ],
   "source": [
    "top_2000_frequences_indices = np.asarray(np.argsort(-X_train_bow.sum(axis=0)))[0][:2000]\n",
    "print(\"Indices of top-2K frequent words in the vocabulary are\", top_2000_frequences_indices)"
   ]
  },
  {
   "cell_type": "code",
   "execution_count": 51,
   "metadata": {},
   "outputs": [],
   "source": [
    "vectorizer2000 = CountVectorizer()\n",
    "vectorizer2000.fit(X_train)\n",
    "\n",
    "vocab2000 = np.array(vectorizer2000.get_feature_names())"
   ]
  },
  {
   "cell_type": "code",
   "execution_count": 52,
   "metadata": {},
   "outputs": [],
   "source": [
    "top_words_frequency_2000 = vocab2000[top_2000_frequences_indices]"
   ]
  },
  {
   "cell_type": "code",
   "execution_count": 53,
   "metadata": {},
   "outputs": [],
   "source": [
    "X_train_frequency_2000 = X_train_bow[:, top_2000_frequences_indices]\n",
    "X_test_frequency_2000 = X_test_bow[:, top_2000_frequences_indices]"
   ]
  },
  {
   "cell_type": "code",
   "execution_count": 54,
   "metadata": {},
   "outputs": [
    {
     "name": "stdout",
     "output_type": "stream",
     "text": [
      "(16000, 2000)\n",
      "(4000, 2000)\n"
     ]
    }
   ],
   "source": [
    "print(X_train_frequency_2000.shape)\n",
    "print(X_test_frequency_2000.shape)"
   ]
  },
  {
   "cell_type": "markdown",
   "metadata": {},
   "source": [
    "### Отбор признаков с помощью случайного леса."
   ]
  },
  {
   "cell_type": "markdown",
   "metadata": {},
   "source": [
    "#### Для начала уберем стоп-слова (предлоги, союзы, местоимения)"
   ]
  },
  {
   "cell_type": "code",
   "execution_count": 56,
   "metadata": {},
   "outputs": [],
   "source": [
    "vectorizerWithStopWords2000 = CountVectorizer(stop_words='english')\n",
    "X_train_minus_stop_words2000 = vectorizerWithStopWords2000.fit_transform(X_train)\n",
    "vocab_minus_stop_words2000 = np.array(vectorizerWithStopWords2000.get_feature_names())\n",
    "X_test_minus_stop_words2000 = vectorizerWithStopWords2000.transform(X_test)"
   ]
  },
  {
   "cell_type": "code",
   "execution_count": 57,
   "metadata": {},
   "outputs": [
    {
     "name": "stdout",
     "output_type": "stream",
     "text": [
      "(16000, 62097)\n"
     ]
    }
   ],
   "source": [
    "print(X_train_minus_stop_words2000.shape)"
   ]
  },
  {
   "cell_type": "markdown",
   "metadata": {},
   "source": [
    "Как видим, после отсева стоп-слов словарь, полученный по тренировочной выборке, уже имеет меньший размер, чем в предыдущем пункте, что логично (62097 после фильтрации стоп-слов, 62407 без фильтрации стоп-слов)"
   ]
  },
  {
   "cell_type": "markdown",
   "metadata": {},
   "source": [
    "#### Обучим случайный лес на полученных признаках"
   ]
  },
  {
   "cell_type": "code",
   "execution_count": 58,
   "metadata": {},
   "outputs": [
    {
     "data": {
      "text/plain": [
       "RandomForestClassifier(bootstrap=True, ccp_alpha=0.0, class_weight=None,\n",
       "                       criterion='gini', max_depth=None, max_features='auto',\n",
       "                       max_leaf_nodes=None, max_samples=None,\n",
       "                       min_impurity_decrease=0.0, min_impurity_split=None,\n",
       "                       min_samples_leaf=1, min_samples_split=2,\n",
       "                       min_weight_fraction_leaf=0.0, n_estimators=500,\n",
       "                       n_jobs=-1, oob_score=False, random_state=42, verbose=0,\n",
       "                       warm_start=False)"
      ]
     },
     "execution_count": 58,
     "metadata": {},
     "output_type": "execute_result"
    }
   ],
   "source": [
    "rf_clf = RandomForestClassifier(n_estimators=500, n_jobs=-1, random_state=42)\n",
    "rf_clf.fit(X_train_minus_stop_words2000, y_train)"
   ]
  },
  {
   "cell_type": "markdown",
   "metadata": {},
   "source": [
    "Соберем слова, которые обученный случайный посчитал наиболее важными"
   ]
  },
  {
   "cell_type": "code",
   "execution_count": 59,
   "metadata": {},
   "outputs": [],
   "source": [
    "importances = rf_clf.feature_importances_\n",
    "top_importances_random_forest_2000 = np.argsort(-importances)[:2000]\n",
    "top_words_random_forest_2000 = vocab_minus_stop_words2000[top_importances_random_forest_2000]"
   ]
  },
  {
   "cell_type": "markdown",
   "metadata": {},
   "source": [
    "Преобразуем данные"
   ]
  },
  {
   "cell_type": "code",
   "execution_count": 60,
   "metadata": {},
   "outputs": [],
   "source": [
    "X_train_rand_forest_2000 = X_train_minus_stop_words2000[:, top_importances_random_forest_2000]\n",
    "X_test_rand_forest_2000 = X_test_minus_stop_words2000[:, top_importances_random_forest_2000]"
   ]
  },
  {
   "cell_type": "code",
   "execution_count": 61,
   "metadata": {},
   "outputs": [
    {
     "name": "stdout",
     "output_type": "stream",
     "text": [
      "(16000, 2000)\n",
      "(4000, 2000)\n"
     ]
    }
   ],
   "source": [
    "print(X_train_rand_forest_2000.shape)\n",
    "print(X_test_rand_forest_2000.shape)"
   ]
  },
  {
   "cell_type": "markdown",
   "metadata": {},
   "source": [
    "## 4.2 - 5 баллов. Обучение алгоритмов на признаках с пониженной размерностью\n",
    "\n",
    "### Вновь обучите логистическую регрессию уже на 2000 признаков (RandomForest  и PCA) и постройте ROC-кривые для двух вариантов понижения размерности признаков"
   ]
  },
  {
   "cell_type": "code",
   "execution_count": 62,
   "metadata": {},
   "outputs": [
    {
     "data": {
      "image/png": "[encoded data removed]",
      "text/plain": [
       "<Figure size 432x288 with 1 Axes>"
      ]
     },
     "metadata": {
      "needs_background": "light"
     },
     "output_type": "display_data"
    }
   ],
   "source": [
    "# logreg on Bag-of-words\n",
    "logreg = LogisticRegression(C=0.1)\n",
    "logreg.fit(x_train_SVD, y_train)\n",
    "y_pred_lr = logreg.predict_proba(x_test_SVD)[:, 1]\n",
    "fpr_lr, tpr_lr, _ = roc_curve(y_test, y_pred_lr)\n",
    "ROC_AUC_score_lr = auc(fpr_lr, tpr_lr)\n",
    "plt.plot(fpr_lr, tpr_lr, label='LogReg SVD, AUC score={}'.format(round(ROC_AUC_score_lr, 3)))\n",
    "plt.fill_between(fpr_lr, tpr_lr, alpha=0.1)\n",
    "\n",
    "\n",
    "# обучите аналогично лог.регрессию и постройте график \n",
    "# на датафрейме X_train_rand_forest со словами, \n",
    "# отобранными по важности слов, оцененных RandomForest\n",
    "logreg = LogisticRegression(C=0.1)\n",
    "logreg.fit(X_train_rand_forest_2000, y_train)\n",
    "logreg_y_pred_rf = logreg.predict_proba(X_test_rand_forest_2000)[:, 1]\n",
    "fpr_lr_rf, tpr_lr_rf, _ = roc_curve(y_test, logreg_y_pred_rf)\n",
    "ROC_AUC_score_lr_rf = auc(fpr_lr_rf, tpr_lr_rf)\n",
    "plt.plot(fpr_lr_rf, tpr_lr_rf, label='LogReg Random Forest Imp, AUC score={}'.format(round(ROC_AUC_score_lr_rf, 3)))\n",
    "\n",
    "plt.xlabel('FPR', fontsize=20)\n",
    "plt.ylabel('TPR', fontsize=20)\n",
    "plt.title('ROC curve for different feature selection strategies', fontsize=20)\n",
    "plt.legend(prop={'size':15}, loc='lower right')\n",
    "plt.xlim([0., 1,])\n",
    "plt.ylim([0., 1.])\n",
    "plt.show()"
   ]
  },
  {
   "cell_type": "markdown",
   "metadata": {},
   "source": [
    "Повлияло ли понижение размерности в 30 раз на метрики качества (c 60 тыс 2 тыс)?"
   ]
  },
  {
   "cell_type": "markdown",
   "metadata": {},
   "source": [
    "**Здесь метрики также отличаются незначительно, получается что метод главных компонент в осносном может быть использован только для оптимизации работы алгоритмов с большими датасетами**"
   ]
  },
  {
   "cell_type": "markdown",
   "metadata": {},
   "source": [
    "## 4.2 - 5 баллов - интерпретация главных компонент\n",
    "Для первых трех компонент преобразования найдите топ-30 наиболее важных слов. Можете ли вы охарактеризовать как-то каждую из этих групп?"
   ]
  },
  {
   "cell_type": "code",
   "execution_count": 122,
   "metadata": {},
   "outputs": [
    {
     "name": "stdout",
     "output_type": "stream",
     "text": [
      "Collecting googletrans\n",
      "  Downloading googletrans-3.0.0.tar.gz (17 kB)\n",
      "Collecting httpx==0.13.3\n",
      "  Downloading httpx-0.13.3-py3-none-any.whl (55 kB)\n",
      "Requirement already satisfied: certifi in c:\\users\\asus\\anaconda3\\lib\\site-packages (from httpx==0.13.3->googletrans) (2020.4.5.1)\n",
      "Collecting hstspreload\n",
      "  Downloading hstspreload-2020.6.9-py3-none-any.whl (895 kB)\n",
      "Requirement already satisfied: chardet==3.* in c:\\users\\asus\\anaconda3\\lib\\site-packages (from httpx==0.13.3->googletrans) (3.0.4)\n",
      "Collecting sniffio\n",
      "  Downloading sniffio-1.1.0-py3-none-any.whl (4.5 kB)\n",
      "Collecting rfc3986<2,>=1.3\n",
      "  Downloading rfc3986-1.4.0-py2.py3-none-any.whl (31 kB)\n",
      "Requirement already satisfied: idna==2.* in c:\\users\\asus\\anaconda3\\lib\\site-packages (from httpx==0.13.3->googletrans) (2.9)\n",
      "Collecting httpcore==0.9.*\n",
      "  Downloading httpcore-0.9.1-py3-none-any.whl (42 kB)\n",
      "Collecting h11<0.10,>=0.8\n",
      "  Downloading h11-0.9.0-py2.py3-none-any.whl (53 kB)\n",
      "Collecting h2==3.*\n",
      "  Downloading h2-3.2.0-py2.py3-none-any.whl (65 kB)\n",
      "Collecting hpack<4,>=3.0\n",
      "  Downloading hpack-3.0.0-py2.py3-none-any.whl (38 kB)\n",
      "Collecting hyperframe<6,>=5.2.0\n",
      "  Downloading hyperframe-5.2.0-py2.py3-none-any.whl (12 kB)\n",
      "Building wheels for collected packages: googletrans\n",
      "  Building wheel for googletrans (setup.py): started\n",
      "  Building wheel for googletrans (setup.py): finished with status 'done'\n",
      "  Created wheel for googletrans: filename=googletrans-3.0.0-py3-none-any.whl size=15740 sha256=725ba321bba1d1f791b55a7b4e2a20ad07296fb7b23282e9477fc7ed390d2e79\n",
      "  Stored in directory: c:\\users\\asus\\appdata\\local\\pip\\cache\\wheels\\20\\da\\eb\\a54579056f265eede0417df537dd56d3df5b9eb2b25df0003d\n",
      "Successfully built googletrans\n",
      "Installing collected packages: hstspreload, sniffio, rfc3986, h11, hpack, hyperframe, h2, httpcore, httpx, googletrans\n",
      "Successfully installed googletrans-3.0.0 h11-0.9.0 h2-3.2.0 hpack-3.0.0 hstspreload-2020.6.9 httpcore-0.9.1 httpx-0.13.3 hyperframe-5.2.0 rfc3986-1.4.0 sniffio-1.1.0\n"
     ]
    }
   ],
   "source": [
    "!pip install googletrans"
   ]
  },
  {
   "cell_type": "code",
   "execution_count": 63,
   "metadata": {},
   "outputs": [],
   "source": [
    "from googletrans import Translator"
   ]
  },
  {
   "cell_type": "code",
   "execution_count": 76,
   "metadata": {},
   "outputs": [
    {
     "data": {
      "text/plain": [
       "(62407,)"
      ]
     },
     "execution_count": 76,
     "metadata": {},
     "output_type": "execute_result"
    }
   ],
   "source": [
    "vocab = np.asarray( vectorizer.get_feature_names())  \n",
    "vocab.shape"
   ]
  },
  {
   "cell_type": "code",
   "execution_count": 78,
   "metadata": {},
   "outputs": [
    {
     "data": {
      "text/plain": [
       "array([ 7257, 55389, 38925,  8290, 26008, 49179, 60145, 34540, 42237,\n",
       "       26031, 18608,  2528, 48280, 54904, 21956, 39431, 26626,  5946,\n",
       "       33929, 29239,  5239, 17197, 30693, 60701, 42644, 20063,  5162,\n",
       "       38478, 51438,  7630], dtype=int64)"
      ]
     },
     "execution_count": 78,
     "metadata": {},
     "output_type": "execute_result"
    }
   ],
   "source": [
    "np.argsort(-truncatedSVD.components_[:3][component_num])[:30]"
   ]
  },
  {
   "cell_type": "code",
   "execution_count": 79,
   "metadata": {},
   "outputs": [
    {
     "name": "stdout",
     "output_type": "stream",
     "text": [
      "component number:  0\n",
      "the                                                         0.665685\n",
      "and                           а также                       0.305288\n",
      "of                            из                            0.284911\n",
      "to                            в                             0.264953\n",
      "br                            уш                            0.200393\n",
      "is                            является                      0.197919\n",
      "in                            в                             0.183071\n",
      "it                            Это                           0.166586\n",
      "that                          который                       0.142923\n",
      "this                          это                           0.123135\n",
      "as                            в виде                        0.091014\n",
      "with                          с                             0.085506\n",
      "for                           за                            0.083842\n",
      "was                           было                          0.083554\n",
      "but                           но                            0.077659\n",
      "film                          фильм                         0.074688\n",
      "movie                         кино                          0.066735\n",
      "on                            на                            0.064533\n",
      "he                            он                            0.064521\n",
      "his                           его                           0.061514\n",
      "not                           не                            0.056308\n",
      "you                           вы                            0.055772\n",
      "are                           находятся                     0.055549\n",
      "be                            быть                          0.051371\n",
      "have                          иметь                         0.050515\n",
      "one                           один                          0.049066\n",
      "they                          Они                           0.045217\n",
      "at                            в                             0.045184\n",
      "by                            по                            0.045033\n",
      "all                           все                           0.044154\n",
      "\n",
      "component number:  1\n",
      "br                            уш                            0.746956\n",
      "it                            Это                           0.246019\n",
      "this                          это                           0.180816\n",
      "movie                         кино                          0.131845\n",
      "you                           вы                            0.129758\n",
      "to                            в                             0.104128\n",
      "that                          который                       0.101908\n",
      "was                           было                          0.086826\n",
      "not                           не                            0.055661\n",
      "but                           но                            0.051878\n",
      "have                          иметь                         0.051183\n",
      "just                          просто                        0.048348\n",
      "like                          подобно                       0.046830\n",
      "so                            так                           0.046132\n",
      "if                            если                          0.045591\n",
      "and                           а также                       0.038662\n",
      "what                          что                           0.038062\n",
      "be                            быть                          0.037363\n",
      "my                            мой                           0.036724\n",
      "they                          Они                           0.036134\n",
      "is                            является                      0.035022\n",
      "bad                           плохой                        0.032567\n",
      "all                           все                           0.031752\n",
      "me                            меня                          0.031375\n",
      "really                        действительно                 0.030645\n",
      "there                         там                           0.030286\n",
      "for                           за                            0.029987\n",
      "good                          хорошо                        0.029849\n",
      "can                           Можно                         0.029797\n",
      "don                           дон                           0.029202\n",
      "\n",
      "component number:  2\n",
      "br                            уш                            0.619932\n",
      "the                                                         0.371875\n",
      "of                            из                            0.040610\n",
      "by                            по                            0.014289\n",
      "his                           его                           0.009698\n",
      "series                        серии                         0.006957\n",
      "war                           война                         0.006363\n",
      "match                         матч                          0.006215\n",
      "police                        полиция                       0.004752\n",
      "history                       история                       0.004112\n",
      "episode                       эпизод                        0.003935\n",
      "american                      американский                  0.003757\n",
      "scene                         сцена                         0.003601\n",
      "team                          команда                       0.003498\n",
      "from                          от                            0.003485\n",
      "original                      оригинал                      0.003170\n",
      "house                         жилой дом                     0.003129\n",
      "between                       между                         0.003019\n",
      "man                           мужчина                       0.002813\n",
      "jackson                       джексон                       0.002689\n",
      "battle                        боевой                        0.002653\n",
      "during                        в течение                     0.002596\n",
      "king                          король                        0.002549\n",
      "which                         который                       0.002444\n",
      "power                         сила                          0.002427\n",
      "father                        отец                          0.002382\n",
      "basket                        корзина                       0.002316\n",
      "novel                         роман                         0.002308\n",
      "son                           сын                           0.002292\n",
      "british                       Британская                    0.002282\n",
      "\n"
     ]
    }
   ],
   "source": [
    "translator = Translator()\n",
    "for component_num in range(0,3):\n",
    "    indices = np.argsort(-truncatedSVD.components_[:3][component_num])[:30]\n",
    "    print('component number: ', component_num)\n",
    "    for i in range(0,30):\n",
    "        idx = indices[i]\n",
    "        word = vocab[idx]\n",
    "        print('%-30s%-30s%f'%(word,\n",
    "                              translator.translate(word,src='en',dest='ru').text,\n",
    "                              truncatedSVD.components_[:3][component_num][idx]))\n",
    "    print()"
   ]
  },
  {
   "cell_type": "markdown",
   "metadata": {},
   "source": [
    "**Не уверен что тут получилось в итоге правильно (предыдущий вариант выглядел по-другому)\n",
    "Если судить по этому варианту, то он не дает никакой информации о том, какие слова влияют на компоенты.\n",
    "Приведенные коэффициенты - всего лишь веса указанных слов в линейном преобразовании, которое соответствует компоненте**"
   ]
  },
  {
   "cell_type": "code",
   "execution_count": null,
   "metadata": {},
   "outputs": [],
   "source": []
  }
 ],
 "metadata": {
  "kernelspec": {
   "display_name": "Python 3",
   "language": "python",
   "name": "python3"
  },
  "language_info": {
   "codemirror_mode": {
    "name": "ipython",
    "version": 3
   },
   "file_extension": ".py",
   "mimetype": "text/x-python",
   "name": "python",
   "nbconvert_exporter": "python",
   "pygments_lexer": "ipython3",
   "version": "3.7.7"
  }
 },
 "nbformat": 4,
 "nbformat_minor": 1
}
